{
 "cells": [
  {
   "cell_type": "code",
   "execution_count": 1,
   "metadata": {},
   "outputs": [],
   "source": [
    "import pandas as pd"
   ]
  },
  {
   "cell_type": "code",
   "execution_count": 6,
   "metadata": {},
   "outputs": [
    {
     "name": "stderr",
     "output_type": "stream",
     "text": [
      "/usr/local/lib/python3.5/dist-packages/IPython/core/interactiveshell.py:2717: DtypeWarning: Columns (6,21,22,27) have mixed types. Specify dtype option on import or set low_memory=False.\n",
      "  interactivity=interactivity, compiler=compiler, result=result)\n"
     ]
    },
    {
     "data": {
      "text/html": [
       "<div>\n",
       "<style scoped>\n",
       "    .dataframe tbody tr th:only-of-type {\n",
       "        vertical-align: middle;\n",
       "    }\n",
       "\n",
       "    .dataframe tbody tr th {\n",
       "        vertical-align: top;\n",
       "    }\n",
       "\n",
       "    .dataframe thead th {\n",
       "        text-align: right;\n",
       "    }\n",
       "</style>\n",
       "<table border=\"1\" class=\"dataframe\">\n",
       "  <thead>\n",
       "    <tr style=\"text-align: right;\">\n",
       "      <th></th>\n",
       "      <th>X</th>\n",
       "      <th>Y</th>\n",
       "      <th>OBJECTID</th>\n",
       "      <th>name</th>\n",
       "      <th>amenity</th>\n",
       "      <th>healthcare</th>\n",
       "      <th>healthcare_speciality</th>\n",
       "      <th>operator</th>\n",
       "      <th>operator_type</th>\n",
       "      <th>contact_phone</th>\n",
       "      <th>...</th>\n",
       "      <th>religion</th>\n",
       "      <th>emergency</th>\n",
       "      <th>rooms</th>\n",
       "      <th>beds</th>\n",
       "      <th>capacity</th>\n",
       "      <th>wheelchair</th>\n",
       "      <th>wikidata</th>\n",
       "      <th>wikipedia</th>\n",
       "      <th>ORIG_FID</th>\n",
       "      <th>GlobalID</th>\n",
       "    </tr>\n",
       "  </thead>\n",
       "  <tbody>\n",
       "    <tr>\n",
       "      <th>0</th>\n",
       "      <td>9.916076</td>\n",
       "      <td>52.163315</td>\n",
       "      <td>3001</td>\n",
       "      <td>Spitzweg-Apotheke</td>\n",
       "      <td>pharmacy</td>\n",
       "      <td>NaN</td>\n",
       "      <td>NaN</td>\n",
       "      <td>Frau Anke Brei</td>\n",
       "      <td>NaN</td>\n",
       "      <td>NaN</td>\n",
       "      <td>...</td>\n",
       "      <td>NaN</td>\n",
       "      <td>NaN</td>\n",
       "      <td>NaN</td>\n",
       "      <td>NaN</td>\n",
       "      <td>NaN</td>\n",
       "      <td>yes</td>\n",
       "      <td>NaN</td>\n",
       "      <td>NaN</td>\n",
       "      <td>NaN</td>\n",
       "      <td>cde0cfa0-a0d0-42f8-a9a9-846e08ffed0d</td>\n",
       "    </tr>\n",
       "    <tr>\n",
       "      <th>1</th>\n",
       "      <td>9.917201</td>\n",
       "      <td>52.162667</td>\n",
       "      <td>3002</td>\n",
       "      <td>Paracelsus Apotheke</td>\n",
       "      <td>pharmacy</td>\n",
       "      <td>NaN</td>\n",
       "      <td>NaN</td>\n",
       "      <td>NaN</td>\n",
       "      <td>NaN</td>\n",
       "      <td>NaN</td>\n",
       "      <td>...</td>\n",
       "      <td>NaN</td>\n",
       "      <td>NaN</td>\n",
       "      <td>NaN</td>\n",
       "      <td>NaN</td>\n",
       "      <td>NaN</td>\n",
       "      <td>yes</td>\n",
       "      <td>NaN</td>\n",
       "      <td>NaN</td>\n",
       "      <td>NaN</td>\n",
       "      <td>7c117c9b-8a53-4aa0-9bf8-89b440f7ba72</td>\n",
       "    </tr>\n",
       "    <tr>\n",
       "      <th>2</th>\n",
       "      <td>9.476684</td>\n",
       "      <td>54.781439</td>\n",
       "      <td>3003</td>\n",
       "      <td>Kreuz-Apotheke</td>\n",
       "      <td>pharmacy</td>\n",
       "      <td>NaN</td>\n",
       "      <td>NaN</td>\n",
       "      <td>NaN</td>\n",
       "      <td>NaN</td>\n",
       "      <td>NaN</td>\n",
       "      <td>...</td>\n",
       "      <td>NaN</td>\n",
       "      <td>NaN</td>\n",
       "      <td>NaN</td>\n",
       "      <td>NaN</td>\n",
       "      <td>NaN</td>\n",
       "      <td>yes</td>\n",
       "      <td>NaN</td>\n",
       "      <td>NaN</td>\n",
       "      <td>NaN</td>\n",
       "      <td>f9dba47d-7185-4ae8-ade8-b3fc426984d3</td>\n",
       "    </tr>\n",
       "    <tr>\n",
       "      <th>3</th>\n",
       "      <td>7.230673</td>\n",
       "      <td>50.578080</td>\n",
       "      <td>3004</td>\n",
       "      <td>Römer Apotheke</td>\n",
       "      <td>pharmacy</td>\n",
       "      <td>pharmacy</td>\n",
       "      <td>NaN</td>\n",
       "      <td>NaN</td>\n",
       "      <td>NaN</td>\n",
       "      <td>NaN</td>\n",
       "      <td>...</td>\n",
       "      <td>NaN</td>\n",
       "      <td>NaN</td>\n",
       "      <td>NaN</td>\n",
       "      <td>NaN</td>\n",
       "      <td>NaN</td>\n",
       "      <td>NaN</td>\n",
       "      <td>NaN</td>\n",
       "      <td>NaN</td>\n",
       "      <td>NaN</td>\n",
       "      <td>0cfba82d-01b5-4a22-b86e-2b841d49a1c2</td>\n",
       "    </tr>\n",
       "    <tr>\n",
       "      <th>4</th>\n",
       "      <td>11.740356</td>\n",
       "      <td>52.020936</td>\n",
       "      <td>3005</td>\n",
       "      <td>Adler</td>\n",
       "      <td>pharmacy</td>\n",
       "      <td>NaN</td>\n",
       "      <td>NaN</td>\n",
       "      <td>NaN</td>\n",
       "      <td>NaN</td>\n",
       "      <td>NaN</td>\n",
       "      <td>...</td>\n",
       "      <td>NaN</td>\n",
       "      <td>NaN</td>\n",
       "      <td>NaN</td>\n",
       "      <td>NaN</td>\n",
       "      <td>NaN</td>\n",
       "      <td>NaN</td>\n",
       "      <td>NaN</td>\n",
       "      <td>NaN</td>\n",
       "      <td>NaN</td>\n",
       "      <td>736cf28c-8e08-4013-9415-f3f2f29014f6</td>\n",
       "    </tr>\n",
       "  </tbody>\n",
       "</table>\n",
       "<p>5 rows × 36 columns</p>\n",
       "</div>"
      ],
      "text/plain": [
       "           X          Y  OBJECTID                 name   amenity healthcare  \\\n",
       "0   9.916076  52.163315      3001    Spitzweg-Apotheke  pharmacy        NaN   \n",
       "1   9.917201  52.162667      3002  Paracelsus Apotheke  pharmacy        NaN   \n",
       "2   9.476684  54.781439      3003       Kreuz-Apotheke  pharmacy        NaN   \n",
       "3   7.230673  50.578080      3004       Römer Apotheke  pharmacy   pharmacy   \n",
       "4  11.740356  52.020936      3005                Adler  pharmacy        NaN   \n",
       "\n",
       "  healthcare_speciality        operator operator_type contact_phone  ...  \\\n",
       "0                   NaN  Frau Anke Brei           NaN           NaN  ...   \n",
       "1                   NaN             NaN           NaN           NaN  ...   \n",
       "2                   NaN             NaN           NaN           NaN  ...   \n",
       "3                   NaN             NaN           NaN           NaN  ...   \n",
       "4                   NaN             NaN           NaN           NaN  ...   \n",
       "\n",
       "  religion emergency rooms  beds  capacity wheelchair wikidata wikipedia  \\\n",
       "0      NaN       NaN   NaN   NaN       NaN        yes      NaN       NaN   \n",
       "1      NaN       NaN   NaN   NaN       NaN        yes      NaN       NaN   \n",
       "2      NaN       NaN   NaN   NaN       NaN        yes      NaN       NaN   \n",
       "3      NaN       NaN   NaN   NaN       NaN        NaN      NaN       NaN   \n",
       "4      NaN       NaN   NaN   NaN       NaN        NaN      NaN       NaN   \n",
       "\n",
       "  ORIG_FID                              GlobalID  \n",
       "0      NaN  cde0cfa0-a0d0-42f8-a9a9-846e08ffed0d  \n",
       "1      NaN  7c117c9b-8a53-4aa0-9bf8-89b440f7ba72  \n",
       "2      NaN  f9dba47d-7185-4ae8-ade8-b3fc426984d3  \n",
       "3      NaN  0cfba82d-01b5-4a22-b86e-2b841d49a1c2  \n",
       "4      NaN  736cf28c-8e08-4013-9415-f3f2f29014f6  \n",
       "\n",
       "[5 rows x 36 columns]"
      ]
     },
     "execution_count": 6,
     "metadata": {},
     "output_type": "execute_result"
    }
   ],
   "source": [
    "dat = pd.read_csv('apotheken_openstreetmap.csv')\n",
    "dat.head()"
   ]
  },
  {
   "cell_type": "code",
   "execution_count": 15,
   "metadata": {},
   "outputs": [],
   "source": [
    "dat = dat[[i for i in dat.columns.values if i in dat.dropna(axis=1, how='all').columns.values]]"
   ]
  },
  {
   "cell_type": "code",
   "execution_count": 16,
   "metadata": {},
   "outputs": [
    {
     "data": {
      "text/plain": [
       "Index(['X', 'Y', 'OBJECTID', 'name', 'amenity', 'healthcare',\n",
       "       'healthcare_speciality', 'operator', 'operator_type', 'contact_phone',\n",
       "       'contact_website', 'contact_email', 'contact_fax', 'address_street',\n",
       "       'address_housenumber', 'address_postcode', 'address_city',\n",
       "       'address_housename', 'address_suburb', 'address_subdistrict',\n",
       "       'address_district', 'address_state', 'emergency', 'wheelchair',\n",
       "       'wikidata', 'wikipedia', 'ORIG_FID', 'GlobalID'],\n",
       "      dtype='object')"
      ]
     },
     "execution_count": 16,
     "metadata": {},
     "output_type": "execute_result"
    }
   ],
   "source": [
    "dat.columns"
   ]
  },
  {
   "cell_type": "code",
   "execution_count": 13,
   "metadata": {},
   "outputs": [
    {
     "data": {
      "text/plain": [
       "Series([], Name: addr, dtype: float64)"
      ]
     },
     "execution_count": 13,
     "metadata": {},
     "output_type": "execute_result"
    }
   ],
   "source": [
    "dat['addr'].dropna()"
   ]
  },
  {
   "cell_type": "code",
   "execution_count": 18,
   "metadata": {},
   "outputs": [],
   "source": [
    "dat.to_csv('apotheken.csv')"
   ]
  },
  {
   "cell_type": "code",
   "execution_count": 4,
   "metadata": {},
   "outputs": [],
   "source": [
    "data = pd.read_csv('intensiv.csv')"
   ]
  },
  {
   "cell_type": "code",
   "execution_count": null,
   "metadata": {},
   "outputs": [],
   "source": []
  },
  {
   "cell_type": "code",
   "execution_count": 5,
   "metadata": {},
   "outputs": [
    {
     "data": {
      "text/html": [
       "<div>\n",
       "<style scoped>\n",
       "    .dataframe tbody tr th:only-of-type {\n",
       "        vertical-align: middle;\n",
       "    }\n",
       "\n",
       "    .dataframe tbody tr th {\n",
       "        vertical-align: top;\n",
       "    }\n",
       "\n",
       "    .dataframe thead th {\n",
       "        text-align: right;\n",
       "    }\n",
       "</style>\n",
       "<table border=\"1\" class=\"dataframe\">\n",
       "  <thead>\n",
       "    <tr style=\"text-align: right;\">\n",
       "      <th></th>\n",
       "      <th>plz</th>\n",
       "      <th>intensivkliniken</th>\n",
       "      <th>land</th>\n",
       "      <th>krs</th>\n",
       "    </tr>\n",
       "  </thead>\n",
       "  <tbody>\n",
       "    <tr>\n",
       "      <th>0</th>\n",
       "      <td>1129</td>\n",
       "      <td>1</td>\n",
       "      <td>SN</td>\n",
       "      <td>14612</td>\n",
       "    </tr>\n",
       "    <tr>\n",
       "      <th>1</th>\n",
       "      <td>1307</td>\n",
       "      <td>2</td>\n",
       "      <td>SN</td>\n",
       "      <td>14612</td>\n",
       "    </tr>\n",
       "    <tr>\n",
       "      <th>2</th>\n",
       "      <td>1454</td>\n",
       "      <td>1</td>\n",
       "      <td>SN</td>\n",
       "      <td>14625</td>\n",
       "    </tr>\n",
       "    <tr>\n",
       "      <th>3</th>\n",
       "      <td>1477</td>\n",
       "      <td>1</td>\n",
       "      <td>SN</td>\n",
       "      <td>14625</td>\n",
       "    </tr>\n",
       "    <tr>\n",
       "      <th>4</th>\n",
       "      <td>1558</td>\n",
       "      <td>1</td>\n",
       "      <td>SN</td>\n",
       "      <td>14627</td>\n",
       "    </tr>\n",
       "  </tbody>\n",
       "</table>\n",
       "</div>"
      ],
      "text/plain": [
       "    plz  intensivkliniken land    krs\n",
       "0  1129                 1   SN  14612\n",
       "1  1307                 2   SN  14612\n",
       "2  1454                 1   SN  14625\n",
       "3  1477                 1   SN  14625\n",
       "4  1558                 1   SN  14627"
      ]
     },
     "execution_count": 5,
     "metadata": {},
     "output_type": "execute_result"
    }
   ],
   "source": [
    "data.head()"
   ]
  },
  {
   "cell_type": "code",
   "execution_count": null,
   "metadata": {},
   "outputs": [],
   "source": []
  }
 ],
 "metadata": {
  "kernelspec": {
   "display_name": "Python 3",
   "language": "python",
   "name": "python3"
  },
  "language_info": {
   "codemirror_mode": {
    "name": "ipython",
    "version": 3
   },
   "file_extension": ".py",
   "mimetype": "text/x-python",
   "name": "python",
   "nbconvert_exporter": "python",
   "pygments_lexer": "ipython3",
   "version": "3.5.2"
  }
 },
 "nbformat": 4,
 "nbformat_minor": 2
}
